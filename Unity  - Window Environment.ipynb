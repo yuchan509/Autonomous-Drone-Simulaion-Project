{
 "cells": [
  {
   "cell_type": "markdown",
   "metadata": {},
   "source": [
    "### Installation Path\n",
    "- https://github.com/Unity-Technologies/ml-agents"
   ]
  },
  {
   "cell_type": "markdown",
   "metadata": {},
   "source": [
    "### Using Virtual Environment\n",
    "#### Installing Pip (Required)\n",
    "* pyrhon 설치 여부 확인. - cmd에서 python 입력.\n",
    "* ML-agents라는 폴더를 만들어 경로를 해당 폴더를 바꾼다. - cd C:\\Users\\pnu\\Desktop\\ML-agents\n",
    "* cmd에 curl https://bootstrap.pypa.io/get-pip.py -o get-pip.py 입력을 통해 설치.\n",
    "* python3 get-pip.py\n",
    "* pip3 -V or pip -V 입력.\n",
    "\n",
    "#### Windows Setup\n",
    "* md python-envs\n",
    "* ML 환경 만들기. - python -m venv python-envs\\ML-env\n",
    "* ML-env라는 이름으로 가상환경 만들기 - python-envs\\ML-env\\Scripts\\activate\n",
    "* (가상 환경에서 벗어나고자 할 경우 deactivate 입력.)"
   ]
  },
  {
   "cell_type": "markdown",
   "metadata": {},
   "source": [
    "### ML-agents Installation\n",
    "* Git 설치. - pip install git\n",
    "* Git 설치 후 반드시 cmd 창을 닫고 다시 킨뒤 앞서 만든 ML-agents 폴더 경로의 ..\\python-envs\\ML-env\\Scripts로 이동. - cd C:\\Users\\pnu\\Desktop\\ML-agents\\python-envs\\ML-env\\Scripts \n",
    "* activate\n",
    "* 이후 이 위치로 다시 돌아오기 - cd C:\\Users\\pnu\\Desktop\\ML-agents\n",
    "* 최신의 release를 찾아 설치. - git clone --branch release_17 https://github.com/Unity-Technologies/ml-agents.git\n",
    "* pip3 install torch~=1.7.1 -f https://download.pytorch.org/whl/torch_stable.html\n",
    "* python -m pip install mlagents==0.26.0\n",
    "* pip3 install -e ./ml-agents-envs\n",
    "* pip3 install -e ./ml-agents\n",
    "* 설치 확인 - mlagents-learn"
   ]
  },
  {
   "cell_type": "markdown",
   "metadata": {},
   "source": [
    "### Training ML-Agents\n",
    "* 학습 명령어 - mlagents-learn config/ppo/trainer_config.yaml --run-id='저장할 이름'\n",
    "* results 파일 내부에 nn 확장자 저장되므로 가져다 사용.\n",
    "* 정확도 및 손실에 대한 지표를 살펴봄 - tensorboard --logdir-results\n",
    "* 학습 중단 하고자 할 때 ctrl + c로 강제 종료."
   ]
  },
  {
   "cell_type": "markdown",
   "metadata": {},
   "source": [
    "### changes\n",
    "* InitializeAgent() --> Initialize() \n",
    "* AgentAction() -->  OnActionReceived()\n",
    "* AgentReset() -->  OnEpisodeBegin() \n",
    "* Done() -->  EndEpisode() \n",
    "* Create a new MonoBehaviour and store the data in the new MonoBehaviour instead of Inhering from Academy\n",
    "* Move the InitializeAcademy code to MonoBehaviour.OnAwake"
   ]
  },
  {
   "cell_type": "markdown",
   "metadata": {},
   "source": [
    "### Agent \n",
    "- 주변 환경을 관측(Observations)\n",
    "- 정책에 의한 행동(Actions)\n",
    "- 보상(Reward)"
   ]
  },
  {
   "cell_type": "markdown",
   "metadata": {},
   "source": [
    "에이전트 스크립트는 Unity.MLAgents 네임스페이스를 지정해야하며 상속 받을 베이스 클래스를 Agent로 지정.\n"
   ]
  },
  {
   "cell_type": "code",
   "execution_count": null,
   "metadata": {},
   "outputs": [],
   "source": [
    "// 기본 구성.\n",
    "using UnityEngine;\n",
    "using Unity.MLAgents;\n",
    "public class 상속받을 베이스 클래스명 : Agent\n",
    "{\n",
    "    // 초기화 작업을 위해 한번 호출되는 메소드.\n",
    "    public override void Initialize()\n",
    "    {\n",
    "\n",
    "    }\n",
    "\n",
    "    // 에피소드(학습단위)가 시작할때마다 호출 : epoch의 개념.\n",
    "    public override void OnEpisodeBegin()\n",
    "    {\n",
    "\n",
    "    }\n",
    "\n",
    "    // 환경 정보를 관측 및 수집해 정책 결정을 위해 브레인에 전달하는 메소드.\n",
    "    public override void CollectObservations(Unity.MLAgents.Sensors.VectorSensor sensor)\n",
    "    {\n",
    "\n",
    "    }\n",
    "\n",
    "    // 브레인(정책)으로 부터 전달 받은 행동을 실행하는 메소드.\n",
    "    public override void OnActionReceived(float[] vectorAction)\n",
    "    {\n",
    "\n",
    "    }\n",
    "\n",
    "    // 개발자(사용자)가 직접 명령을 내릴때 호출하는 메소드.\n",
    "    public override void Heuristic(float[] actionsOut)\n",
    "    {\n",
    "\n",
    "    }\n",
    "}"
   ]
  }
 ],
 "metadata": {
  "kernelspec": {
   "display_name": ".NET (C#)",
   "language": "C#",
   "name": ".net-csharp"
  },
  "language_info": {
   "file_extension": ".cs",
   "mimetype": "text/x-csharp",
   "name": "C#",
   "pygments_lexer": "csharp",
   "version": "8.0"
  }
 },
 "nbformat": 4,
 "nbformat_minor": 2
}
